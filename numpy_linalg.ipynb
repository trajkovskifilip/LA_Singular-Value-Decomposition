{
 "cells": [
  {
   "cell_type": "code",
   "execution_count": 1,
   "metadata": {},
   "outputs": [
    {
     "name": "stdout",
     "output_type": "stream",
     "text": [
      "Left Singular Vectors:\n",
      "[[-0.4472136  -0.89442719]\n",
      " [-0.89442719  0.4472136 ]]\n",
      "Singular Values:\n",
      "[[6.32455532 0.        ]\n",
      " [0.         3.16227766]]\n",
      "Right Singular Vectors:\n",
      "[[-0.70710678  0.70710678]\n",
      " [-0.70710678 -0.70710678]]\n",
      "[[ 4.00000000e+00 -1.11022302e-15]\n",
      " [ 3.00000000e+00 -5.00000000e+00]]\n"
     ]
    }
   ],
   "source": [
    "import numpy as np\n",
    "from numpy.linalg import svd\n",
    "\n",
    "# define your matrix as a 2D numpy array\n",
    "A = np.array([[4, 0], [3, -5]])\n",
    "\n",
    "U, S, VT = svd(A)\n",
    "\n",
    "print(\"Left Singular Vectors:\")\n",
    "print(U)\n",
    "print(\"Singular Values:\") \n",
    "print(np.diag(S))\n",
    "print(\"Right Singular Vectors:\") \n",
    "print(VT)\n",
    "\n",
    "print(U @ np.diag(S) @ VT)"
   ]
  },
  {
   "cell_type": "code",
   "execution_count": null,
   "metadata": {},
   "outputs": [],
   "source": []
  }
 ],
 "metadata": {
  "kernelspec": {
   "display_name": "Python 3",
   "language": "python",
   "name": "python3"
  },
  "language_info": {
   "codemirror_mode": {
    "name": "ipython",
    "version": 3
   },
   "file_extension": ".py",
   "mimetype": "text/x-python",
   "name": "python",
   "nbconvert_exporter": "python",
   "pygments_lexer": "ipython3",
   "version": "3.8.3"
  }
 },
 "nbformat": 4,
 "nbformat_minor": 4
}
