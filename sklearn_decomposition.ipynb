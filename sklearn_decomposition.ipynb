{
 "cells": [
  {
   "cell_type": "code",
   "execution_count": 3,
   "metadata": {},
   "outputs": [
    {
     "name": "stdout",
     "output_type": "stream",
     "text": [
      "Original Matrix:\n",
      "[[-1  2  0]\n",
      " [ 2  0 -2]\n",
      " [ 0 -2  1]]\n",
      "Singular values:\n",
      "[3. 3.]\n",
      "Transformed Matrix after reducing to 2 features:\n",
      "[[ 2.23401607 -0.09577153]\n",
      " [-0.7786806   2.7191279 ]\n",
      " [-1.84467577 -1.26379242]]\n"
     ]
    }
   ],
   "source": [
    "import numpy as np\n",
    "from sklearn.decomposition import TruncatedSVD\n",
    "\n",
    "A = np.array([[-1, 2, 0], [2, 0, -2], [0, -2, 1]])\n",
    "print(\"Original Matrix:\")\n",
    "print(A)\n",
    "\n",
    "svd =  TruncatedSVD(n_components = 2)\n",
    "A_transf = svd.fit_transform(A)\n",
    "\n",
    "print(\"Singular values:\")\n",
    "print(svd.singular_values_)\n",
    "\n",
    "print(\"Transformed Matrix after reducing to 2 features:\")\n",
    "print(A_transf)"
   ]
  },
  {
   "cell_type": "code",
   "execution_count": null,
   "metadata": {},
   "outputs": [],
   "source": []
  }
 ],
 "metadata": {
  "kernelspec": {
   "display_name": "Python 3",
   "language": "python",
   "name": "python3"
  },
  "language_info": {
   "codemirror_mode": {
    "name": "ipython",
    "version": 3
   },
   "file_extension": ".py",
   "mimetype": "text/x-python",
   "name": "python",
   "nbconvert_exporter": "python",
   "pygments_lexer": "ipython3",
   "version": "3.8.3"
  }
 },
 "nbformat": 4,
 "nbformat_minor": 4
}
