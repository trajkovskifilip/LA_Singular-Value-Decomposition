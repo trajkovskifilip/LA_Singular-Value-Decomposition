{
  "nbformat": 4,
  "nbformat_minor": 0,
  "metadata": {
    "colab": {
      "name": "SVD_Image_Compression_colored.ipynb",
      "provenance": []
    },
    "kernelspec": {
      "name": "python3",
      "display_name": "Python 3"
    }
  },
  "cells": [
    {
      "cell_type": "code",
      "metadata": {
        "id": "p_iL-J2k8dt6"
      },
      "source": [
        "import numpy\n",
        "from PIL import Image"
      ],
      "execution_count": null,
      "outputs": []
    },
    {
      "cell_type": "code",
      "metadata": {
        "id": "PfQkondu8ysE"
      },
      "source": [
        "def load_image(image):\n",
        "    image = Image.open(image)\n",
        "    im_array = numpy.array(image)\n",
        "\n",
        "    red = im_array[:, :, 0]\n",
        "    green = im_array[:, :, 1]\n",
        "    blue = im_array[:, :, 2]\n",
        "\n",
        "    return red, green, blue"
      ],
      "execution_count": null,
      "outputs": []
    },
    {
      "cell_type": "code",
      "metadata": {
        "id": "m8IvSPBe86Lb"
      },
      "source": [
        "def channel_compress(color_channel, singular_value_limit):\n",
        "    u, s, v = numpy.linalg.svd(color_channel)\n",
        "    compressed = numpy.zeros((color_channel.shape[0], color_channel.shape[1]))\n",
        "    n = singular_value_limit\n",
        "\n",
        "    left_matrix = numpy.matmul(u[:, 0:n], numpy.diag(s)[0:n, 0:n])\n",
        "    inner_compressed = numpy.matmul(left_matrix, v[0:n, :])\n",
        "    compressed = inner_compressed.astype('uint8')\n",
        "    return compressed"
      ],
      "execution_count": null,
      "outputs": []
    },
    {
      "cell_type": "code",
      "metadata": {
        "id": "Xvpfz9JPBPd8"
      },
      "source": [
        "def compress_image(red, green, blue, singular_val_lim):\n",
        "    compressed_red = channel_compress(red, singular_val_lim)\n",
        "    compressed_green = channel_compress(green, singular_val_lim)\n",
        "    compressed_blue = channel_compress(blue, singular_val_lim)\n",
        "\n",
        "    im_red = Image.fromarray(compressed_red)\n",
        "    im_blue = Image.fromarray(compressed_blue)\n",
        "    im_green = Image.fromarray(compressed_green)\n",
        "\n",
        "    new_image = Image.merge(\"RGB\", (im_red, im_green, im_blue))\n",
        "    new_image.show()\n",
        "    new_image.save(f'nature-edited-{singular_val_lim}.jpg')"
      ],
      "execution_count": null,
      "outputs": []
    },
    {
      "cell_type": "code",
      "metadata": {
        "id": "0FzFOtLhBW48"
      },
      "source": [
        "red, green, blue = load_image(\"nature.jpg\")\n",
        "n_singular_values = [400, 600, 800, 1000, 1200, 1400, 1600, 1800]\n",
        "for i in n_singular_values:\n",
        "    compress_image(red, green, blue, i)"
      ],
      "execution_count": null,
      "outputs": []
    }
  ]
}